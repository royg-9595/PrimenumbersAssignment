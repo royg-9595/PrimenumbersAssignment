{
 "cells": [
  {
   "cell_type": "code",
   "execution_count": 8,
   "id": "31dfb380",
   "metadata": {},
   "outputs": [],
   "source": [
    "from selenium import webdriver\n",
    "from selenium.webdriver.support.ui import WebDriverWait\n",
    "from selenium.webdriver.common.by import By\n",
    "from selenium.webdriver.support import expected_conditions as EC\n",
    "import time\n",
    "import pandas as pd\n",
    "from time import sleep"
   ]
  },
  {
   "cell_type": "code",
   "execution_count": 29,
   "id": "a73a7881",
   "metadata": {},
   "outputs": [
    {
     "name": "stderr",
     "output_type": "stream",
     "text": [
      "C:\\Users\\Anjani Jayanth Roy\\AppData\\Local\\Temp\\ipykernel_9036\\939030191.py:1: DeprecationWarning: executable_path has been deprecated, please pass in a Service object\n",
      "  driver = webdriver.Chrome('A:/webdriver/chromedriver.exe')\n"
     ]
    }
   ],
   "source": [
    "driver = webdriver.Chrome('A:/webdriver/chromedriver.exe')"
   ]
  },
  {
   "cell_type": "code",
   "execution_count": 41,
   "id": "b7a4fa82",
   "metadata": {},
   "outputs": [],
   "source": [
    "driver.get('https://qcpi.questcdn.com/cdn/posting/?group=1950787&provider=1950787')\n",
    "time.sleep(5)\n",
    "i=3\n",
    "searchposts=driver.find_element(\"xpath\",'/html/body/div[2]/div[2]/div[2]/div/div[3]/div[6]/div/div/div/div[3]/div/table/tbody/tr[ '+str(i)+' ]/td[2]/a')\n",
    "searchposts.click()\n"
   ]
  },
  {
   "cell_type": "code",
   "execution_count": 47,
   "id": "4a098002",
   "metadata": {},
   "outputs": [
    {
     "name": "stdout",
     "output_type": "stream",
     "text": [
      "12/05/2023\n"
     ]
    }
   ],
   "source": [
    "post=driver.find_element(\"xpath\",'/html/body/div[2]/div[2]/div[2]/div/div[4]/div[1]/div[2]/div[2]/div/b[2]')\n",
    "print(post.text.split(\" \")[3])"
   ]
  },
  {
   "cell_type": "code",
   "execution_count": 62,
   "id": "b2252daa",
   "metadata": {},
   "outputs": [
    {
     "name": "stdout",
     "output_type": "stream",
     "text": [
      "Est. Value Notes:\n"
     ]
    }
   ],
   "source": [
    "EstVal=driver.find_element(\"xpath\",'/html/body/div[2]/div[2]/div[2]/div/div[4]/div[1]/div[4]/div[2]/div/div/div[2]/div/table/tbody/tr[3]/td[2]')\n",
    "print(EstVal.text)"
   ]
  },
  {
   "cell_type": "code",
   "execution_count": 60,
   "id": "5f76001a",
   "metadata": {},
   "outputs": [
    {
     "name": "stdout",
     "output_type": "stream",
     "text": [
      "Reconstructing the pavement on US 30/US 26\n"
     ]
    }
   ],
   "source": [
    "Desc=driver.find_element(\"xpath\", '/html/body/div[2]/div[2]/div[2]/div/div[4]/div[1]/div[4]/div[2]/div/div/div[3]/div/table/tbody/tr[3]/td[2]')\n",
    "print(Desc.text)"
   ]
  },
  {
   "cell_type": "code",
   "execution_count": 71,
   "id": "a2400ce5",
   "metadata": {},
   "outputs": [],
   "source": [
    "lists_of_list=[]\n",
    "for i in range(1,6):\n",
    "    li=[]\n",
    "    driver.get('https://qcpi.questcdn.com/cdn/posting/?group=1950787&provider=1950787')\n",
    "    time.sleep(5)\n",
    "    searchposts=driver.find_element(\"xpath\",'/html/body/div[2]/div[2]/div[2]/div/div[3]/div[6]/div/div/div/div[3]/div/table/tbody/tr[ '+str(i)+' ]/td[2]/a')\n",
    "    searchposts.click()\n",
    "    time.sleep(5)\n",
    "    Cdate=driver.find_element(\"xpath\",'/html/body/div[2]/div[2]/div[2]/div/div[4]/div[1]/div[2]/div[2]/div/b[2]')\n",
    "    EstVal=driver.find_element(\"xpath\",'/html/body/div[2]/div[2]/div[2]/div/div[4]/div[1]/div[4]/div[2]/div/div/div[2]/div/table/tbody/tr[3]/td[2]')\n",
    "    Desc=driver.find_element(\"xpath\", '/html/body/div[2]/div[2]/div[2]/div/div[4]/div[1]/div[4]/div[2]/div/div/div[3]/div/table/tbody/tr[3]/td[2]')\n",
    "    li.append(EstVal.text)\n",
    "    li.append(Cdate.text.split(\" \")[3])\n",
    "    li.append(Desc.text)\n",
    "    lists_of_list.append(li)"
   ]
  },
  {
   "cell_type": "code",
   "execution_count": 72,
   "id": "5d367d2d",
   "metadata": {},
   "outputs": [
    {
     "data": {
      "text/plain": [
       "[['$500,000 to $1,000,000',\n",
       "  '12/05/2023',\n",
       "  'sealcoat SH-19 from the Oregon State Line to the junction of US-95.'],\n",
       " ['$2,500,000 to $5,000,000',\n",
       "  '12/05/2023',\n",
       "  'I-84/I-86 Seal Coat (including SLC Interchange)'],\n",
       " ['$2,500,000 to $5,000,000',\n",
       "  '12/05/2023',\n",
       "  'Reconstructing the pavement on US 30/US 26'],\n",
       " ['$1,000,000.00 to $2,500,000.00',\n",
       "  '12/05/2023',\n",
       "  'chip seal and fog coat of SH-3 from MP 111.38 to MP 117.68 and SH-54 from MP 8.162 to 11.80 and SH-97 from MP 69.07 to MP 81.50'],\n",
       " ['$25,000,000 or Greater',\n",
       "  '12/12/2023',\n",
       "  'replacing the I-84 structures over Eastern Idaho Railroad, US-30, & SH-24, constructing a new partial-offset-diamond interchange with overcrossing bridge, & reconstructing/realigning of ramps including the signing, striping, drainage, & seeding at MP 211']]"
      ]
     },
     "execution_count": 72,
     "metadata": {},
     "output_type": "execute_result"
    }
   ],
   "source": [
    "lists_of_list"
   ]
  },
  {
   "cell_type": "code",
   "execution_count": 75,
   "id": "4663110a",
   "metadata": {},
   "outputs": [],
   "source": [
    "df = pd.DataFrame(lists_of_list, columns=['Est. Value Notes', 'Closing Date', 'Description'])\n",
    "df.to_csv('Primenumberstask.csv', index=True, sep=',')"
   ]
  }
 ],
 "metadata": {
  "kernelspec": {
   "display_name": "Python 3 (ipykernel)",
   "language": "python",
   "name": "python3"
  },
  "language_info": {
   "codemirror_mode": {
    "name": "ipython",
    "version": 3
   },
   "file_extension": ".py",
   "mimetype": "text/x-python",
   "name": "python",
   "nbconvert_exporter": "python",
   "pygments_lexer": "ipython3",
   "version": "3.10.6"
  }
 },
 "nbformat": 4,
 "nbformat_minor": 5
}
